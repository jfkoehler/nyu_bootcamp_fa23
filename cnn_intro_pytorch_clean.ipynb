{
 "cells": [
  {
   "cell_type": "markdown",
   "metadata": {
    "id": "YouhtCkUUew9"
   },
   "source": [
    "### Datasets and Convnets in `pytorch`\n",
    "\n",
    "- Build model on `.csv` dataset for binary classification\n",
    "- Build Convolutional Network Architecture with `pytorch`\n",
    "\n",
    "\n",
    "- [link to colab](https://colab.research.google.com/drive/1PGnlTEWujnhpbLxJN6_WD-iddyiY4b-7?usp=sharing)"
   ]
  },
  {
   "cell_type": "code",
   "execution_count": null,
   "metadata": {
    "id": "IM9dptJbr2Ig"
   },
   "outputs": [],
   "source": [
    "from torchvision.datasets import ImageFolder\n",
    "from torch.utils.data import Dataset, DataLoader\n",
    "\n",
    "import torch\n",
    "from torch import optim\n",
    "from torchvision.transforms import ToTensor, Resize, Compose, Normalize\n",
    "import torch.nn as nn\n",
    "\n",
    "import pandas as pd\n",
    "import numpy as np\n",
    "import matplotlib.pyplot as plt"
   ]
  },
  {
   "cell_type": "code",
   "execution_count": null,
   "metadata": {
    "id": "0SWAhWlIr1-t"
   },
   "outputs": [],
   "source": [
    "#loading csv with pandas\n",
    "df = pd.read_csv('https://raw.githubusercontent.com/jfkoehler/nyu_bootcamp_fa23/main/data/diabetes.csv')"
   ]
  },
  {
   "cell_type": "code",
   "execution_count": null,
   "metadata": {
    "colab": {
     "base_uri": "https://localhost:8080/",
     "height": 206
    },
    "id": "uZryzQ0Sr18Z",
    "outputId": "be5ec4a2-a0bc-4ee0-f486-970775f742dd"
   },
   "outputs": [
    {
     "data": {
      "text/html": [
       "\n",
       "\n",
       "  <div id=\"df-40b6fcf3-3ecd-4be1-9341-1c866757dd0b\">\n",
       "    <div class=\"colab-df-container\">\n",
       "      <div>\n",
       "<style scoped>\n",
       "    .dataframe tbody tr th:only-of-type {\n",
       "        vertical-align: middle;\n",
       "    }\n",
       "\n",
       "    .dataframe tbody tr th {\n",
       "        vertical-align: top;\n",
       "    }\n",
       "\n",
       "    .dataframe thead th {\n",
       "        text-align: right;\n",
       "    }\n",
       "</style>\n",
       "<table border=\"1\" class=\"dataframe\">\n",
       "  <thead>\n",
       "    <tr style=\"text-align: right;\">\n",
       "      <th></th>\n",
       "      <th>Pregnancies</th>\n",
       "      <th>Glucose</th>\n",
       "      <th>BloodPressure</th>\n",
       "      <th>SkinThickness</th>\n",
       "      <th>Insulin</th>\n",
       "      <th>BMI</th>\n",
       "      <th>DiabetesPedigreeFunction</th>\n",
       "      <th>Age</th>\n",
       "      <th>Outcome</th>\n",
       "    </tr>\n",
       "  </thead>\n",
       "  <tbody>\n",
       "    <tr>\n",
       "      <th>0</th>\n",
       "      <td>6</td>\n",
       "      <td>148</td>\n",
       "      <td>72</td>\n",
       "      <td>35</td>\n",
       "      <td>0</td>\n",
       "      <td>33.6</td>\n",
       "      <td>0.627</td>\n",
       "      <td>50</td>\n",
       "      <td>1</td>\n",
       "    </tr>\n",
       "    <tr>\n",
       "      <th>1</th>\n",
       "      <td>1</td>\n",
       "      <td>85</td>\n",
       "      <td>66</td>\n",
       "      <td>29</td>\n",
       "      <td>0</td>\n",
       "      <td>26.6</td>\n",
       "      <td>0.351</td>\n",
       "      <td>31</td>\n",
       "      <td>0</td>\n",
       "    </tr>\n",
       "    <tr>\n",
       "      <th>2</th>\n",
       "      <td>8</td>\n",
       "      <td>183</td>\n",
       "      <td>64</td>\n",
       "      <td>0</td>\n",
       "      <td>0</td>\n",
       "      <td>23.3</td>\n",
       "      <td>0.672</td>\n",
       "      <td>32</td>\n",
       "      <td>1</td>\n",
       "    </tr>\n",
       "    <tr>\n",
       "      <th>3</th>\n",
       "      <td>1</td>\n",
       "      <td>89</td>\n",
       "      <td>66</td>\n",
       "      <td>23</td>\n",
       "      <td>94</td>\n",
       "      <td>28.1</td>\n",
       "      <td>0.167</td>\n",
       "      <td>21</td>\n",
       "      <td>0</td>\n",
       "    </tr>\n",
       "    <tr>\n",
       "      <th>4</th>\n",
       "      <td>0</td>\n",
       "      <td>137</td>\n",
       "      <td>40</td>\n",
       "      <td>35</td>\n",
       "      <td>168</td>\n",
       "      <td>43.1</td>\n",
       "      <td>2.288</td>\n",
       "      <td>33</td>\n",
       "      <td>1</td>\n",
       "    </tr>\n",
       "  </tbody>\n",
       "</table>\n",
       "</div>\n",
       "      <button class=\"colab-df-convert\" onclick=\"convertToInteractive('df-40b6fcf3-3ecd-4be1-9341-1c866757dd0b')\"\n",
       "              title=\"Convert this dataframe to an interactive table.\"\n",
       "              style=\"display:none;\">\n",
       "\n",
       "  <svg xmlns=\"http://www.w3.org/2000/svg\" height=\"24px\"viewBox=\"0 0 24 24\"\n",
       "       width=\"24px\">\n",
       "    <path d=\"M0 0h24v24H0V0z\" fill=\"none\"/>\n",
       "    <path d=\"M18.56 5.44l.94 2.06.94-2.06 2.06-.94-2.06-.94-.94-2.06-.94 2.06-2.06.94zm-11 1L8.5 8.5l.94-2.06 2.06-.94-2.06-.94L8.5 2.5l-.94 2.06-2.06.94zm10 10l.94 2.06.94-2.06 2.06-.94-2.06-.94-.94-2.06-.94 2.06-2.06.94z\"/><path d=\"M17.41 7.96l-1.37-1.37c-.4-.4-.92-.59-1.43-.59-.52 0-1.04.2-1.43.59L10.3 9.45l-7.72 7.72c-.78.78-.78 2.05 0 2.83L4 21.41c.39.39.9.59 1.41.59.51 0 1.02-.2 1.41-.59l7.78-7.78 2.81-2.81c.8-.78.8-2.07 0-2.86zM5.41 20L4 18.59l7.72-7.72 1.47 1.35L5.41 20z\"/>\n",
       "  </svg>\n",
       "      </button>\n",
       "\n",
       "\n",
       "\n",
       "    <div id=\"df-2bf95922-0ea0-4cce-9e54-b9b6a403fd27\">\n",
       "      <button class=\"colab-df-quickchart\" onclick=\"quickchart('df-2bf95922-0ea0-4cce-9e54-b9b6a403fd27')\"\n",
       "              title=\"Suggest charts.\"\n",
       "              style=\"display:none;\">\n",
       "\n",
       "<svg xmlns=\"http://www.w3.org/2000/svg\" height=\"24px\"viewBox=\"0 0 24 24\"\n",
       "     width=\"24px\">\n",
       "    <g>\n",
       "        <path d=\"M19 3H5c-1.1 0-2 .9-2 2v14c0 1.1.9 2 2 2h14c1.1 0 2-.9 2-2V5c0-1.1-.9-2-2-2zM9 17H7v-7h2v7zm4 0h-2V7h2v10zm4 0h-2v-4h2v4z\"/>\n",
       "    </g>\n",
       "</svg>\n",
       "      </button>\n",
       "    </div>\n",
       "\n",
       "<style>\n",
       "  .colab-df-quickchart {\n",
       "    background-color: #E8F0FE;\n",
       "    border: none;\n",
       "    border-radius: 50%;\n",
       "    cursor: pointer;\n",
       "    display: none;\n",
       "    fill: #1967D2;\n",
       "    height: 32px;\n",
       "    padding: 0 0 0 0;\n",
       "    width: 32px;\n",
       "  }\n",
       "\n",
       "  .colab-df-quickchart:hover {\n",
       "    background-color: #E2EBFA;\n",
       "    box-shadow: 0px 1px 2px rgba(60, 64, 67, 0.3), 0px 1px 3px 1px rgba(60, 64, 67, 0.15);\n",
       "    fill: #174EA6;\n",
       "  }\n",
       "\n",
       "  [theme=dark] .colab-df-quickchart {\n",
       "    background-color: #3B4455;\n",
       "    fill: #D2E3FC;\n",
       "  }\n",
       "\n",
       "  [theme=dark] .colab-df-quickchart:hover {\n",
       "    background-color: #434B5C;\n",
       "    box-shadow: 0px 1px 3px 1px rgba(0, 0, 0, 0.15);\n",
       "    filter: drop-shadow(0px 1px 2px rgba(0, 0, 0, 0.3));\n",
       "    fill: #FFFFFF;\n",
       "  }\n",
       "</style>\n",
       "\n",
       "    <script>\n",
       "      async function quickchart(key) {\n",
       "        const containerElement = document.querySelector('#' + key);\n",
       "        const charts = await google.colab.kernel.invokeFunction(\n",
       "            'suggestCharts', [key], {});\n",
       "      }\n",
       "    </script>\n",
       "\n",
       "      <script>\n",
       "\n",
       "function displayQuickchartButton(domScope) {\n",
       "  let quickchartButtonEl =\n",
       "    domScope.querySelector('#df-2bf95922-0ea0-4cce-9e54-b9b6a403fd27 button.colab-df-quickchart');\n",
       "  quickchartButtonEl.style.display =\n",
       "    google.colab.kernel.accessAllowed ? 'block' : 'none';\n",
       "}\n",
       "\n",
       "        displayQuickchartButton(document);\n",
       "      </script>\n",
       "      <style>\n",
       "    .colab-df-container {\n",
       "      display:flex;\n",
       "      flex-wrap:wrap;\n",
       "      gap: 12px;\n",
       "    }\n",
       "\n",
       "    .colab-df-convert {\n",
       "      background-color: #E8F0FE;\n",
       "      border: none;\n",
       "      border-radius: 50%;\n",
       "      cursor: pointer;\n",
       "      display: none;\n",
       "      fill: #1967D2;\n",
       "      height: 32px;\n",
       "      padding: 0 0 0 0;\n",
       "      width: 32px;\n",
       "    }\n",
       "\n",
       "    .colab-df-convert:hover {\n",
       "      background-color: #E2EBFA;\n",
       "      box-shadow: 0px 1px 2px rgba(60, 64, 67, 0.3), 0px 1px 3px 1px rgba(60, 64, 67, 0.15);\n",
       "      fill: #174EA6;\n",
       "    }\n",
       "\n",
       "    [theme=dark] .colab-df-convert {\n",
       "      background-color: #3B4455;\n",
       "      fill: #D2E3FC;\n",
       "    }\n",
       "\n",
       "    [theme=dark] .colab-df-convert:hover {\n",
       "      background-color: #434B5C;\n",
       "      box-shadow: 0px 1px 3px 1px rgba(0, 0, 0, 0.15);\n",
       "      filter: drop-shadow(0px 1px 2px rgba(0, 0, 0, 0.3));\n",
       "      fill: #FFFFFF;\n",
       "    }\n",
       "  </style>\n",
       "\n",
       "      <script>\n",
       "        const buttonEl =\n",
       "          document.querySelector('#df-40b6fcf3-3ecd-4be1-9341-1c866757dd0b button.colab-df-convert');\n",
       "        buttonEl.style.display =\n",
       "          google.colab.kernel.accessAllowed ? 'block' : 'none';\n",
       "\n",
       "        async function convertToInteractive(key) {\n",
       "          const element = document.querySelector('#df-40b6fcf3-3ecd-4be1-9341-1c866757dd0b');\n",
       "          const dataTable =\n",
       "            await google.colab.kernel.invokeFunction('convertToInteractive',\n",
       "                                                     [key], {});\n",
       "          if (!dataTable) return;\n",
       "\n",
       "          const docLinkHtml = 'Like what you see? Visit the ' +\n",
       "            '<a target=\"_blank\" href=https://colab.research.google.com/notebooks/data_table.ipynb>data table notebook</a>'\n",
       "            + ' to learn more about interactive tables.';\n",
       "          element.innerHTML = '';\n",
       "          dataTable['output_type'] = 'display_data';\n",
       "          await google.colab.output.renderOutput(dataTable, element);\n",
       "          const docLink = document.createElement('div');\n",
       "          docLink.innerHTML = docLinkHtml;\n",
       "          element.appendChild(docLink);\n",
       "        }\n",
       "      </script>\n",
       "    </div>\n",
       "  </div>\n"
      ],
      "text/plain": [
       "   Pregnancies  Glucose  BloodPressure  SkinThickness  Insulin   BMI  \\\n",
       "0            6      148             72             35        0  33.6   \n",
       "1            1       85             66             29        0  26.6   \n",
       "2            8      183             64              0        0  23.3   \n",
       "3            1       89             66             23       94  28.1   \n",
       "4            0      137             40             35      168  43.1   \n",
       "\n",
       "   DiabetesPedigreeFunction  Age  Outcome  \n",
       "0                     0.627   50        1  \n",
       "1                     0.351   31        0  \n",
       "2                     0.672   32        1  \n",
       "3                     0.167   21        0  \n",
       "4                     2.288   33        1  "
      ]
     },
     "execution_count": 42,
     "metadata": {},
     "output_type": "execute_result"
    }
   ],
   "source": [
    "df.head()"
   ]
  },
  {
   "cell_type": "code",
   "execution_count": null,
   "metadata": {
    "colab": {
     "base_uri": "https://localhost:8080/"
    },
    "id": "Rs187L4dr16H",
    "outputId": "5d449fd9-40f1-42b9-e321-1472108e2d67"
   },
   "outputs": [
    {
     "name": "stdout",
     "output_type": "stream",
     "text": [
      "<class 'pandas.core.frame.DataFrame'>\n",
      "RangeIndex: 768 entries, 0 to 767\n",
      "Data columns (total 9 columns):\n",
      " #   Column                    Non-Null Count  Dtype  \n",
      "---  ------                    --------------  -----  \n",
      " 0   Pregnancies               768 non-null    int64  \n",
      " 1   Glucose                   768 non-null    int64  \n",
      " 2   BloodPressure             768 non-null    int64  \n",
      " 3   SkinThickness             768 non-null    int64  \n",
      " 4   Insulin                   768 non-null    int64  \n",
      " 5   BMI                       768 non-null    float64\n",
      " 6   DiabetesPedigreeFunction  768 non-null    float64\n",
      " 7   Age                       768 non-null    int64  \n",
      " 8   Outcome                   768 non-null    int64  \n",
      "dtypes: float64(2), int64(7)\n",
      "memory usage: 54.1 KB\n"
     ]
    }
   ],
   "source": [
    "df.info()"
   ]
  },
  {
   "cell_type": "code",
   "execution_count": null,
   "metadata": {
    "id": "M3wTd88HC_Rq"
   },
   "outputs": [],
   "source": [
    "# # #make class numeric\n",
    "# df['target'] = np.where(df['target_diabetes'] == 'Positive', 1, 0)"
   ]
  },
  {
   "cell_type": "code",
   "execution_count": null,
   "metadata": {
    "colab": {
     "base_uri": "https://localhost:8080/"
    },
    "id": "oCG_ntIus_UX",
    "outputId": "e31a7bd0-bb84-4c0b-96fb-2fefe45bc7f9"
   },
   "outputs": [
    {
     "name": "stdout",
     "output_type": "stream",
     "text": [
      "<class 'pandas.core.frame.DataFrame'>\n",
      "RangeIndex: 768 entries, 0 to 767\n",
      "Data columns (total 9 columns):\n",
      " #   Column                    Non-Null Count  Dtype  \n",
      "---  ------                    --------------  -----  \n",
      " 0   Pregnancies               768 non-null    int64  \n",
      " 1   Glucose                   768 non-null    int64  \n",
      " 2   BloodPressure             768 non-null    int64  \n",
      " 3   SkinThickness             768 non-null    int64  \n",
      " 4   Insulin                   768 non-null    int64  \n",
      " 5   BMI                       768 non-null    float64\n",
      " 6   DiabetesPedigreeFunction  768 non-null    float64\n",
      " 7   Age                       768 non-null    int64  \n",
      " 8   Outcome                   768 non-null    int64  \n",
      "dtypes: float64(2), int64(7)\n",
      "memory usage: 54.1 KB\n"
     ]
    }
   ],
   "source": [
    "df.info()"
   ]
  },
  {
   "cell_type": "code",
   "execution_count": null,
   "metadata": {
    "id": "CTDh06v0Q2TI"
   },
   "outputs": [],
   "source": [
    "# df = df.drop('target_diabetes', axis = 1)"
   ]
  },
  {
   "cell_type": "code",
   "execution_count": null,
   "metadata": {
    "colab": {
     "base_uri": "https://localhost:8080/"
    },
    "id": "KzmjBkP64pBQ",
    "outputId": "e08fda04-9c82-491a-d19b-21b9f5ae767c"
   },
   "outputs": [
    {
     "data": {
      "text/plain": [
       "tensor([  6.0000, 148.0000,  72.0000,  35.0000,   0.0000,  33.6000,   0.6270,\n",
       "         50.0000], dtype=torch.float64)"
      ]
     },
     "execution_count": 47,
     "metadata": {},
     "output_type": "execute_result"
    }
   ],
   "source": [
    "xtest = df.iloc[0, :-1].values\n",
    "\n",
    "xtest_tensor = torch.tensor(xtest)\n",
    "torch.from_numpy(xtest)"
   ]
  },
  {
   "cell_type": "code",
   "execution_count": null,
   "metadata": {
    "id": "8yXJ8uFztB4B"
   },
   "outputs": [],
   "source": [
    "#creating a dataset class\n",
    "class MyDataset(Dataset):\n",
    "  def __init__(self, df):\n",
    "    x = df.iloc[:, :-1].values\n",
    "    y = df.iloc[:, -1].values\n",
    "    self.x = torch.tensor(x, dtype = torch.float32)\n",
    "    self.y = torch.tensor(y)\n",
    "\n",
    "\n",
    "  def __len__(self):\n",
    "    return len(self.y)\n",
    "\n",
    "  def __getitem__(self, idx):\n",
    "    return self.x[idx], self.y[idx]"
   ]
  },
  {
   "cell_type": "code",
   "execution_count": null,
   "metadata": {
    "id": "KFlMXL9utB0V"
   },
   "outputs": [],
   "source": [
    "#instance of the class\n",
    "dset = MyDataset(df)"
   ]
  },
  {
   "cell_type": "code",
   "execution_count": null,
   "metadata": {
    "id": "YtYHWbvktBw_"
   },
   "outputs": [],
   "source": [
    "#DataLoader with batches\n",
    "loader = DataLoader(dset, batch_size = 24)"
   ]
  },
  {
   "cell_type": "markdown",
   "metadata": {
    "id": "JhUJkI15PPj5"
   },
   "source": [
    "#### Training a Model"
   ]
  },
  {
   "cell_type": "code",
   "execution_count": null,
   "metadata": {
    "id": "UyBE8wfOu_Lg"
   },
   "outputs": [],
   "source": [
    "#declare gpu if available\n",
    "device = \"cuda\" if torch.cuda.is_available() else \"cpu\""
   ]
  },
  {
   "cell_type": "code",
   "execution_count": null,
   "metadata": {
    "colab": {
     "base_uri": "https://localhost:8080/",
     "height": 35
    },
    "id": "AmeKSU7jZ2d6",
    "outputId": "6ed7fd9b-ef9f-439d-d286-a3963070a846"
   },
   "outputs": [
    {
     "data": {
      "application/vnd.google.colaboratory.intrinsic+json": {
       "type": "string"
      },
      "text/plain": [
       "'cuda'"
      ]
     },
     "execution_count": 52,
     "metadata": {},
     "output_type": "execute_result"
    }
   ],
   "source": [
    "device"
   ]
  },
  {
   "cell_type": "code",
   "execution_count": null,
   "metadata": {
    "colab": {
     "base_uri": "https://localhost:8080/"
    },
    "id": "WM4NGxxGSqfc",
    "outputId": "2934fdbe-d7fb-44a7-b2ca-7233a02e91b3"
   },
   "outputs": [
    {
     "data": {
      "text/plain": [
       "(768, 9)"
      ]
     },
     "execution_count": 53,
     "metadata": {},
     "output_type": "execute_result"
    }
   ],
   "source": [
    "df.shape"
   ]
  },
  {
   "cell_type": "code",
   "execution_count": null,
   "metadata": {
    "id": "DVy_E5jJuVOc"
   },
   "outputs": [],
   "source": [
    "#basic linear model\n",
    "model = nn.Sequential(nn.Linear(8, 100),\n",
    "                      nn.ReLU(),\n",
    "                      nn.Linear(100, 100),\n",
    "                      nn.ReLU(),\n",
    "                      nn.Linear(100, 2))\n",
    "\n",
    "###SIMILARLY\n",
    "# class Model(nn.Module):\n",
    "#   def __init__(self):\n",
    "#     super().__init__()\n",
    "#     self.layer1 = nn.Linear(8, 100)\n",
    "#     self.layer2 = nn.Linear(100, 100)\n",
    "#     self.output = nn.Linear(100, 2)\n",
    "#     self.act1 = nn.ReLU()\n",
    "\n",
    "#   def forward(self, x):\n",
    "#     x = self.layer..."
   ]
  },
  {
   "cell_type": "code",
   "execution_count": null,
   "metadata": {
    "id": "qNk8wV50vHt1"
   },
   "outputs": [],
   "source": [
    "#move to gpu\n",
    "model = model.to(device)"
   ]
  },
  {
   "cell_type": "code",
   "execution_count": null,
   "metadata": {
    "id": "RSMAF0dluVLc"
   },
   "outputs": [],
   "source": [
    "#optimizer\n",
    "optimizer = optim.SGD(model.parameters(), lr = 0.01)\n",
    "#loss function\n",
    "loss_func = nn.CrossEntropyLoss()"
   ]
  },
  {
   "cell_type": "code",
   "execution_count": null,
   "metadata": {
    "id": "wyTBTsHvtBte"
   },
   "outputs": [],
   "source": [
    "def training_loop(epochs, optimizer, model, loss_func, loader):\n",
    "  for epoch in range(1, epochs + 1):\n",
    "    loss_train = 0.0\n",
    "    for x, y in loader:\n",
    "      x = x.to(device)\n",
    "      y = y.to(device)\n",
    "      #output from model\n",
    "      output = model(x)\n",
    "      #loss\n",
    "      loss = loss_func(output, y)\n",
    "      #zero out optimizer\n",
    "      optimizer.zero_grad()\n",
    "      #backpropagate\n",
    "      loss.backward()\n",
    "      #step\n",
    "      optimizer.step()\n",
    "      #track loss\n",
    "      loss_train += loss.item()\n",
    "    if epoch == 1 or epoch % 100 == 0:\n",
    "      print(f'Epoch {epoch}, Loss {loss_train}.')"
   ]
  },
  {
   "cell_type": "code",
   "execution_count": null,
   "metadata": {
    "colab": {
     "base_uri": "https://localhost:8080/"
    },
    "id": "AHMK2XdLuVJA",
    "outputId": "c55daf29-2b5b-438e-e22b-9ac1c2f5466d"
   },
   "outputs": [
    {
     "name": "stdout",
     "output_type": "stream",
     "text": [
      "Epoch 1, Loss 53.51584041118622.\n",
      "Epoch 100, Loss 16.51539382338524.\n",
      "Epoch 200, Loss 14.49225029349327.\n",
      "Epoch 300, Loss 12.627679571509361.\n",
      "Epoch 400, Loss 11.253694117069244.\n",
      "Epoch 500, Loss 10.30593229830265.\n",
      "Epoch 600, Loss 8.900524325668812.\n",
      "Epoch 700, Loss 8.730200871825218.\n",
      "Epoch 800, Loss 9.54571670293808.\n",
      "Epoch 900, Loss 7.131823740899563.\n",
      "Epoch 1000, Loss 6.44023884832859.\n"
     ]
    }
   ],
   "source": [
    "#train for 1000 epochs\n",
    "training_loop(1000, optimizer, model, loss_func, loader)"
   ]
  },
  {
   "cell_type": "code",
   "execution_count": null,
   "metadata": {
    "id": "51dsYoPKuVF1"
   },
   "outputs": [],
   "source": [
    "#evaluating\n",
    "total = 0\n",
    "correct = 0\n",
    "with torch.no_grad():\n",
    "  for x, y in loader:\n",
    "    x = x.to(device)\n",
    "    y = y.to(device)\n",
    "    #output of model\n",
    "    out = model(x)\n",
    "    #turn to predictions\n",
    "    _, preds = torch.max(out, dim = 1)\n",
    "    #compute number correct and total\n",
    "    total += y.shape[0]\n",
    "    correct += int((preds == y).sum())\n"
   ]
  },
  {
   "cell_type": "code",
   "execution_count": null,
   "metadata": {
    "colab": {
     "base_uri": "https://localhost:8080/"
    },
    "id": "qnjIS7YuuVDM",
    "outputId": "45bc4773-ebc6-4b40-f600-0f7414893029"
   },
   "outputs": [
    {
     "data": {
      "text/plain": [
       "0.8880208333333334"
      ]
     },
     "execution_count": 61,
     "metadata": {},
     "output_type": "execute_result"
    }
   ],
   "source": [
    "#accuracy?\n",
    "correct/total"
   ]
  },
  {
   "cell_type": "code",
   "execution_count": null,
   "metadata": {
    "colab": {
     "base_uri": "https://localhost:8080/"
    },
    "id": "dyOTNfPrtBqI",
    "outputId": "9f6dd767-b387-46dd-926b-af962c17b225"
   },
   "outputs": [
    {
     "data": {
      "text/plain": [
       "0    0.651042\n",
       "1    0.348958\n",
       "Name: Outcome, dtype: float64"
      ]
     },
     "execution_count": 62,
     "metadata": {},
     "output_type": "execute_result"
    }
   ],
   "source": [
    "#baseline? -- NULL MODEL\n",
    "df['Outcome'].value_counts(normalize = True)"
   ]
  },
  {
   "cell_type": "markdown",
   "metadata": {
    "id": "A0dJz_f7QNJE"
   },
   "source": [
    "#### Using an Image Dataset"
   ]
  },
  {
   "cell_type": "code",
   "execution_count": null,
   "metadata": {
    "colab": {
     "base_uri": "https://localhost:8080/"
    },
    "id": "nVYB8VNkU6IC",
    "outputId": "b42872ee-7662-4ba9-e698-9b29d991c072"
   },
   "outputs": [
    {
     "name": "stdout",
     "output_type": "stream",
     "text": [
      "diabetes.csv  diabetes_pytorch.csv  drive  sample_data\n"
     ]
    }
   ],
   "source": [
    "!ls"
   ]
  },
  {
   "cell_type": "code",
   "execution_count": null,
   "metadata": {
    "colab": {
     "base_uri": "https://localhost:8080/"
    },
    "id": "oI8mZPtDwwdx",
    "outputId": "322e5a65-64f6-4785-cb68-ce0f78e39ff6"
   },
   "outputs": [
    {
     "name": "stdout",
     "output_type": "stream",
     "text": [
      "cats_train  dogs_train\n"
     ]
    }
   ],
   "source": [
    "!ls drive/MyDrive/small/train/"
   ]
  },
  {
   "cell_type": "code",
   "execution_count": null,
   "metadata": {
    "id": "IRDY3YtWD4XF"
   },
   "outputs": [],
   "source": [
    "#ImageFolder\n",
    "folder = ImageFolder('drive/MyDrive/small/train/', transform=Compose([Resize([64, 64]),\n",
    "                                                                     ToTensor()]))"
   ]
  },
  {
   "cell_type": "code",
   "execution_count": null,
   "metadata": {
    "colab": {
     "base_uri": "https://localhost:8080/"
    },
    "id": "1cXtUDeb9YiT",
    "outputId": "d2f9d554-6b17-402a-ed79-49f498e78543"
   },
   "outputs": [
    {
     "data": {
      "text/plain": [
       "(tensor([[[0.6980, 0.7216, 0.7529,  ..., 0.2941, 0.2941, 0.2902],\n",
       "          [0.6980, 0.7176, 0.7490,  ..., 0.2902, 0.2902, 0.2863],\n",
       "          [0.6980, 0.7176, 0.7490,  ..., 0.2980, 0.2980, 0.2941],\n",
       "          ...,\n",
       "          [0.7647, 0.7647, 0.7608,  ..., 0.7059, 0.7098, 0.7098],\n",
       "          [0.7843, 0.7882, 0.7765,  ..., 0.7098, 0.6863, 0.7020],\n",
       "          [0.7765, 0.7882, 0.7961,  ..., 0.7059, 0.6431, 0.6627]],\n",
       " \n",
       "         [[0.5569, 0.5804, 0.6118,  ..., 0.2667, 0.2667, 0.2627],\n",
       "          [0.5569, 0.5765, 0.6078,  ..., 0.2627, 0.2627, 0.2588],\n",
       "          [0.5569, 0.5765, 0.6078,  ..., 0.2706, 0.2706, 0.2667],\n",
       "          ...,\n",
       "          [0.5608, 0.5608, 0.5569,  ..., 0.5059, 0.5098, 0.5098],\n",
       "          [0.5804, 0.5843, 0.5765,  ..., 0.5098, 0.4863, 0.5020],\n",
       "          [0.5725, 0.5843, 0.5961,  ..., 0.5020, 0.4392, 0.4588]],\n",
       " \n",
       "         [[0.4314, 0.4549, 0.4784,  ..., 0.2980, 0.2980, 0.2941],\n",
       "          [0.4314, 0.4510, 0.4784,  ..., 0.2941, 0.2941, 0.2902],\n",
       "          [0.4314, 0.4510, 0.4745,  ..., 0.3020, 0.3020, 0.2980],\n",
       "          ...,\n",
       "          [0.3373, 0.3373, 0.3098,  ..., 0.2902, 0.2941, 0.2941],\n",
       "          [0.3569, 0.3569, 0.3333,  ..., 0.2941, 0.2745, 0.2863],\n",
       "          [0.3490, 0.3608, 0.3686,  ..., 0.3059, 0.2392, 0.2627]]]),\n",
       " 0)"
      ]
     },
     "execution_count": 67,
     "metadata": {},
     "output_type": "execute_result"
    }
   ],
   "source": [
    "folder[0]"
   ]
  },
  {
   "cell_type": "code",
   "execution_count": null,
   "metadata": {
    "id": "MA8VsgYkEJZD"
   },
   "outputs": [],
   "source": [
    "#data loader\n",
    "im_loader = DataLoader(folder, batch_size = 32)"
   ]
  },
  {
   "cell_type": "code",
   "execution_count": null,
   "metadata": {
    "colab": {
     "base_uri": "https://localhost:8080/"
    },
    "id": "9__jEybeEeJM",
    "outputId": "116825a7-a575-4311-bc55-7b897ed4e47d"
   },
   "outputs": [
    {
     "data": {
      "text/plain": [
       "torch.Size([3, 64, 64])"
      ]
     },
     "execution_count": 69,
     "metadata": {},
     "output_type": "execute_result"
    }
   ],
   "source": [
    "#look at a shape\n",
    "folder[0][0].shape"
   ]
  },
  {
   "cell_type": "code",
   "execution_count": null,
   "metadata": {
    "colab": {
     "base_uri": "https://localhost:8080/",
     "height": 449
    },
    "id": "uJuW6GTxHgNm",
    "outputId": "8f99c949-e7cd-4212-8660-0b265056c1bd"
   },
   "outputs": [
    {
     "data": {
      "text/plain": [
       "<matplotlib.image.AxesImage at 0x7f0f9f59a140>"
      ]
     },
     "execution_count": 70,
     "metadata": {},
     "output_type": "execute_result"
    },
    {
     "data": {
      "image/png": "[encoded data removed]",
      "text/plain": [
       "<Figure size 640x480 with 1 Axes>"
      ]
     },
     "metadata": {},
     "output_type": "display_data"
    }
   ],
   "source": [
    "#visualize\n",
    "plt.imshow(folder[0][0][0, :, :], cmap = 'gray')"
   ]
  },
  {
   "cell_type": "code",
   "execution_count": null,
   "metadata": {
    "id": "5uGDwm-aFbLZ"
   },
   "outputs": [],
   "source": [
    "#create a conv layer\n",
    "conv = nn.Conv2d(3, 16, 3) #(inchannels, num out, filter size)"
   ]
  },
  {
   "cell_type": "code",
   "execution_count": null,
   "metadata": {
    "colab": {
     "base_uri": "https://localhost:8080/"
    },
    "id": "RSgvr3IjFbIB",
    "outputId": "2a56a0a1-8e7b-4beb-b39b-1e3a326c46df"
   },
   "outputs": [
    {
     "data": {
      "text/plain": [
       "torch.Size([16, 3, 3, 3])"
      ]
     },
     "execution_count": 72,
     "metadata": {},
     "output_type": "execute_result"
    }
   ],
   "source": [
    "#shape of the weights\n",
    "conv.weight.shape"
   ]
  },
  {
   "cell_type": "code",
   "execution_count": null,
   "metadata": {
    "colab": {
     "base_uri": "https://localhost:8080/"
    },
    "id": "pdWk-ZE1FbFD",
    "outputId": "d21c3195-b81c-456e-aa28-adf69285704c"
   },
   "outputs": [
    {
     "data": {
      "text/plain": [
       "torch.Size([16])"
      ]
     },
     "execution_count": 73,
     "metadata": {},
     "output_type": "execute_result"
    }
   ],
   "source": [
    "#shape of the bias\n",
    "conv.bias.shape"
   ]
  },
  {
   "cell_type": "code",
   "execution_count": null,
   "metadata": {
    "colab": {
     "base_uri": "https://localhost:8080/"
    },
    "id": "cyZgptTsFbBt",
    "outputId": "2099cf37-0065-442b-c52f-ebc75dd95d38"
   },
   "outputs": [
    {
     "name": "stderr",
     "output_type": "stream",
     "text": [
      "<ipython-input-74-e49ed47cd50d>:2: UserWarning: To copy construct from a tensor, it is recommended to use sourceTensor.clone().detach() or sourceTensor.clone().detach().requires_grad_(True), rather than torch.tensor(sourceTensor).\n",
      "  output = conv(torch.tensor(folder[0][0])).unsqueeze(0)\n"
     ]
    }
   ],
   "source": [
    "#pass the image through\n",
    "output = conv(torch.tensor(folder[0][0])).unsqueeze(0)"
   ]
  },
  {
   "cell_type": "code",
   "execution_count": null,
   "metadata": {
    "colab": {
     "base_uri": "https://localhost:8080/"
    },
    "id": "ult2NS5h-30G",
    "outputId": "0d155408-631f-4a61-c92f-cd3c8bf99783"
   },
   "outputs": [
    {
     "data": {
      "text/plain": [
       "torch.Size([1, 16, 62, 62])"
      ]
     },
     "execution_count": 75,
     "metadata": {},
     "output_type": "execute_result"
    }
   ],
   "source": [
    "output.shape"
   ]
  },
  {
   "cell_type": "code",
   "execution_count": null,
   "metadata": {
    "id": "3FuGRMiFqb1l"
   },
   "outputs": [],
   "source": [
    "pooler = nn.MaxPool2d(2)"
   ]
  },
  {
   "cell_type": "code",
   "execution_count": null,
   "metadata": {
    "id": "MX_o1BnYqbyw"
   },
   "outputs": [],
   "source": [
    "output = pooler(output)"
   ]
  },
  {
   "cell_type": "code",
   "execution_count": null,
   "metadata": {
    "colab": {
     "base_uri": "https://localhost:8080/"
    },
    "id": "VHgnMxQYFa9H",
    "outputId": "474454a8-f60e-439b-8b9f-eb7a59109c96"
   },
   "outputs": [
    {
     "data": {
      "text/plain": [
       "torch.Size([1, 16, 31, 31])"
      ]
     },
     "execution_count": 78,
     "metadata": {},
     "output_type": "execute_result"
    }
   ],
   "source": [
    "#visualize result\n",
    "output.shape"
   ]
  },
  {
   "cell_type": "code",
   "execution_count": null,
   "metadata": {
    "colab": {
     "base_uri": "https://localhost:8080/",
     "height": 447
    },
    "id": "G7sk-hH9Fa6U",
    "outputId": "e93b8a4a-35d2-43a7-cd01-e41b3b8f7d18"
   },
   "outputs": [
    {
     "data": {
      "text/plain": [
       "<matplotlib.image.AxesImage at 0x7f0f94957f40>"
      ]
     },
     "execution_count": 79,
     "metadata": {},
     "output_type": "execute_result"
    },
    {
     "data": {
      "image/png": "[encoded data removed]",
      "text/plain": [
       "<Figure size 640x480 with 1 Axes>"
      ]
     },
     "metadata": {},
     "output_type": "display_data"
    }
   ],
   "source": [
    "#a basic convnet\n",
    "plt.imshow(output[0, 0].detach().numpy(), cmap = 'gray')"
   ]
  },
  {
   "cell_type": "markdown",
   "metadata": {
    "id": "VvdZXc2lJbzk"
   },
   "source": [
    "#### Understanding the Convolution Operation\n",
    "\n",
    "- Example: Edge Detection"
   ]
  },
  {
   "cell_type": "code",
   "execution_count": null,
   "metadata": {
    "id": "jZXNBaNeJbiq"
   },
   "outputs": [],
   "source": []
  },
  {
   "cell_type": "code",
   "execution_count": null,
   "metadata": {
    "id": "ATgV47xzJbex"
   },
   "outputs": [],
   "source": []
  },
  {
   "cell_type": "code",
   "execution_count": null,
   "metadata": {
    "id": "m3BN2-BpJbbo"
   },
   "outputs": [],
   "source": []
  },
  {
   "cell_type": "code",
   "execution_count": null,
   "metadata": {
    "id": "IzUJXDj1JbYg"
   },
   "outputs": [],
   "source": []
  },
  {
   "cell_type": "code",
   "execution_count": null,
   "metadata": {
    "id": "EpAdboNQJbVZ"
   },
   "outputs": [],
   "source": []
  },
  {
   "cell_type": "code",
   "execution_count": null,
   "metadata": {
    "id": "LYoYifyCJbSg"
   },
   "outputs": [],
   "source": []
  },
  {
   "cell_type": "code",
   "execution_count": null,
   "metadata": {
    "id": "RV6JVkzmJbN1"
   },
   "outputs": [],
   "source": []
  },
  {
   "cell_type": "code",
   "execution_count": null,
   "metadata": {
    "id": "tAmztSqfJbLO"
   },
   "outputs": [],
   "source": []
  },
  {
   "cell_type": "code",
   "execution_count": null,
   "metadata": {
    "id": "-Ml5ZsJkJbIm"
   },
   "outputs": [],
   "source": []
  },
  {
   "cell_type": "code",
   "execution_count": null,
   "metadata": {
    "id": "b6e2TzPJJbGB"
   },
   "outputs": [],
   "source": []
  },
  {
   "cell_type": "markdown",
   "metadata": {
    "id": "kqwGbG7qRxLY"
   },
   "source": [
    "#### Smaller Example"
   ]
  },
  {
   "cell_type": "code",
   "execution_count": null,
   "metadata": {
    "id": "av8yIywYx0Lp"
   },
   "outputs": [],
   "source": [
    "from torchvision import datasets"
   ]
  },
  {
   "cell_type": "code",
   "execution_count": null,
   "metadata": {
    "colab": {
     "base_uri": "https://localhost:8080/"
    },
    "id": "Dy_QTKwVx0Hl",
    "outputId": "7f47b9e9-3096-4182-9a66-f78d718ecea3"
   },
   "outputs": [
    {
     "name": "stdout",
     "output_type": "stream",
     "text": [
      "Downloading https://www.cs.toronto.edu/~kriz/cifar-10-python.tar.gz to ./cifar-10-python.tar.gz\n"
     ]
    },
    {
     "name": "stderr",
     "output_type": "stream",
     "text": [
      "100%|██████████| 170498071/170498071 [00:13<00:00, 13058811.18it/s]\n"
     ]
    },
    {
     "name": "stdout",
     "output_type": "stream",
     "text": [
      "Extracting ./cifar-10-python.tar.gz to .\n"
     ]
    }
   ],
   "source": [
    "#download cifar10 as train\n",
    "cifar10 = datasets.CIFAR10('.', download = True)"
   ]
  },
  {
   "cell_type": "code",
   "execution_count": null,
   "metadata": {
    "colab": {
     "base_uri": "https://localhost:8080/",
     "height": 447
    },
    "id": "sF1RXiSxx0Dj",
    "outputId": "a5d47ac1-ba9e-48d7-cdd8-476d73af3c50"
   },
   "outputs": [
    {
     "data": {
      "text/plain": [
       "<matplotlib.image.AxesImage at 0x7f0f94a2da50>"
      ]
     },
     "execution_count": 82,
     "metadata": {},
     "output_type": "execute_result"
    },
    {
     "data": {
      "image/png": "[encoded data removed]",
      "text/plain": [
       "<Figure size 640x480 with 1 Axes>"
      ]
     },
     "metadata": {},
     "output_type": "display_data"
    }
   ],
   "source": [
    "#normalize -- prepare\n",
    "plt.imshow(cifar10.data[0])"
   ]
  },
  {
   "cell_type": "code",
   "execution_count": null,
   "metadata": {
    "colab": {
     "base_uri": "https://localhost:8080/"
    },
    "id": "RtaiIirHxz_s",
    "outputId": "fb175e8f-1b39-4de8-cf6e-64c9ad317de8"
   },
   "outputs": [
    {
     "data": {
      "text/plain": [
       "array([[[ 59,  62,  63],\n",
       "        [ 43,  46,  45],\n",
       "        [ 50,  48,  43],\n",
       "        ...,\n",
       "        [158, 132, 108],\n",
       "        [152, 125, 102],\n",
       "        [148, 124, 103]],\n",
       "\n",
       "       [[ 16,  20,  20],\n",
       "        [  0,   0,   0],\n",
       "        [ 18,   8,   0],\n",
       "        ...,\n",
       "        [123,  88,  55],\n",
       "        [119,  83,  50],\n",
       "        [122,  87,  57]],\n",
       "\n",
       "       [[ 25,  24,  21],\n",
       "        [ 16,   7,   0],\n",
       "        [ 49,  27,   8],\n",
       "        ...,\n",
       "        [118,  84,  50],\n",
       "        [120,  84,  50],\n",
       "        [109,  73,  42]],\n",
       "\n",
       "       ...,\n",
       "\n",
       "       [[208, 170,  96],\n",
       "        [201, 153,  34],\n",
       "        [198, 161,  26],\n",
       "        ...,\n",
       "        [160, 133,  70],\n",
       "        [ 56,  31,   7],\n",
       "        [ 53,  34,  20]],\n",
       "\n",
       "       [[180, 139,  96],\n",
       "        [173, 123,  42],\n",
       "        [186, 144,  30],\n",
       "        ...,\n",
       "        [184, 148,  94],\n",
       "        [ 97,  62,  34],\n",
       "        [ 83,  53,  34]],\n",
       "\n",
       "       [[177, 144, 116],\n",
       "        [168, 129,  94],\n",
       "        [179, 142,  87],\n",
       "        ...,\n",
       "        [216, 184, 140],\n",
       "        [151, 118,  84],\n",
       "        [123,  92,  72]]], dtype=uint8)"
      ]
     },
     "execution_count": 83,
     "metadata": {},
     "output_type": "execute_result"
    }
   ],
   "source": [
    "#examine an example\n",
    "cifar10.data[0]"
   ]
  },
  {
   "cell_type": "code",
   "execution_count": null,
   "metadata": {
    "colab": {
     "base_uri": "https://localhost:8080/"
    },
    "id": "75YW0PP53vZ0",
    "outputId": "a54f7bab-9847-41fc-ec64-070dcbdffa79"
   },
   "outputs": [
    {
     "data": {
      "text/plain": [
       "tensor([[[0.2314, 0.1686, 0.1961,  ..., 0.6196, 0.5961, 0.5804],\n",
       "         [0.0627, 0.0000, 0.0706,  ..., 0.4824, 0.4667, 0.4784],\n",
       "         [0.0980, 0.0627, 0.1922,  ..., 0.4627, 0.4706, 0.4275],\n",
       "         ...,\n",
       "         [0.8157, 0.7882, 0.7765,  ..., 0.6275, 0.2196, 0.2078],\n",
       "         [0.7059, 0.6784, 0.7294,  ..., 0.7216, 0.3804, 0.3255],\n",
       "         [0.6941, 0.6588, 0.7020,  ..., 0.8471, 0.5922, 0.4824]],\n",
       "\n",
       "        [[0.2431, 0.1804, 0.1882,  ..., 0.5176, 0.4902, 0.4863],\n",
       "         [0.0784, 0.0000, 0.0314,  ..., 0.3451, 0.3255, 0.3412],\n",
       "         [0.0941, 0.0275, 0.1059,  ..., 0.3294, 0.3294, 0.2863],\n",
       "         ...,\n",
       "         [0.6667, 0.6000, 0.6314,  ..., 0.5216, 0.1216, 0.1333],\n",
       "         [0.5451, 0.4824, 0.5647,  ..., 0.5804, 0.2431, 0.2078],\n",
       "         [0.5647, 0.5059, 0.5569,  ..., 0.7216, 0.4627, 0.3608]],\n",
       "\n",
       "        [[0.2471, 0.1765, 0.1686,  ..., 0.4235, 0.4000, 0.4039],\n",
       "         [0.0784, 0.0000, 0.0000,  ..., 0.2157, 0.1961, 0.2235],\n",
       "         [0.0824, 0.0000, 0.0314,  ..., 0.1961, 0.1961, 0.1647],\n",
       "         ...,\n",
       "         [0.3765, 0.1333, 0.1020,  ..., 0.2745, 0.0275, 0.0784],\n",
       "         [0.3765, 0.1647, 0.1176,  ..., 0.3686, 0.1333, 0.1333],\n",
       "         [0.4549, 0.3686, 0.3412,  ..., 0.5490, 0.3294, 0.2824]]])"
      ]
     },
     "execution_count": 84,
     "metadata": {},
     "output_type": "execute_result"
    }
   ],
   "source": [
    "transformer = ToTensor()\n",
    "transformer(cifar10.data[0])"
   ]
  },
  {
   "cell_type": "code",
   "execution_count": null,
   "metadata": {
    "colab": {
     "base_uri": "https://localhost:8080/"
    },
    "id": "rIQ_Tdw6hp_N",
    "outputId": "596653a0-1db8-4ce8-c77d-cc9ccd484659"
   },
   "outputs": [
    {
     "data": {
      "text/plain": [
       "tensor([[[-1.0745, -1.3255, -1.2157,  ...,  0.4784,  0.3843,  0.3216],\n",
       "         [-1.7490, -2.0000, -1.7176,  ..., -0.0706, -0.1333, -0.0863],\n",
       "         [-1.6078, -1.7490, -1.2314,  ..., -0.1490, -0.1176, -0.2902],\n",
       "         ...,\n",
       "         [ 1.2627,  1.1529,  1.1059,  ...,  0.5098, -1.1216, -1.1686],\n",
       "         [ 0.8235,  0.7137,  0.9176,  ...,  0.8863, -0.4784, -0.6980],\n",
       "         [ 0.7765,  0.6353,  0.8078,  ...,  1.3882,  0.3686, -0.0706]],\n",
       "\n",
       "        [[-1.0275, -1.2784, -1.2471,  ...,  0.0706, -0.0392, -0.0549],\n",
       "         [-1.6863, -2.0000, -1.8745,  ..., -0.6196, -0.6980, -0.6353],\n",
       "         [-1.6235, -1.8902, -1.5765,  ..., -0.6824, -0.6824, -0.8549],\n",
       "         ...,\n",
       "         [ 0.6667,  0.4000,  0.5255,  ...,  0.0863, -1.5137, -1.4667],\n",
       "         [ 0.1804, -0.0706,  0.2588,  ...,  0.3216, -1.0275, -1.1686],\n",
       "         [ 0.2588,  0.0235,  0.2275,  ...,  0.8863, -0.1490, -0.5569]],\n",
       "\n",
       "        [[-1.0118, -1.2941, -1.3255,  ..., -0.3059, -0.4000, -0.3843],\n",
       "         [-1.6863, -2.0000, -2.0000,  ..., -1.1373, -1.2157, -1.1059],\n",
       "         [-1.6706, -2.0000, -1.8745,  ..., -1.2157, -1.2157, -1.3412],\n",
       "         ...,\n",
       "         [-0.4941, -1.4667, -1.5922,  ..., -0.9020, -1.8902, -1.6863],\n",
       "         [-0.4941, -1.3412, -1.5294,  ..., -0.5255, -1.4667, -1.4667],\n",
       "         [-0.1804, -0.5255, -0.6353,  ...,  0.1961, -0.6824, -0.8706]]])"
      ]
     },
     "execution_count": 85,
     "metadata": {},
     "output_type": "execute_result"
    }
   ],
   "source": [
    "norm = Normalize((0.5, 0.5, 0.5),(0.25, 0.25, 0.25))\n",
    "norm(transformer(cifar10.data[0]))"
   ]
  },
  {
   "cell_type": "code",
   "execution_count": null,
   "metadata": {
    "colab": {
     "base_uri": "https://localhost:8080/"
    },
    "id": "_wYfJ5lth9Mk",
    "outputId": "b62e61ae-dfe3-4041-e0a3-36950a58d85a"
   },
   "outputs": [
    {
     "data": {
      "text/plain": [
       "tensor([[[-1.0745, -1.3255, -1.2157,  ...,  0.4784,  0.3843,  0.3216],\n",
       "         [-1.7490, -2.0000, -1.7176,  ..., -0.0706, -0.1333, -0.0863],\n",
       "         [-1.6078, -1.7490, -1.2314,  ..., -0.1490, -0.1176, -0.2902],\n",
       "         ...,\n",
       "         [ 1.2627,  1.1529,  1.1059,  ...,  0.5098, -1.1216, -1.1686],\n",
       "         [ 0.8235,  0.7137,  0.9176,  ...,  0.8863, -0.4784, -0.6980],\n",
       "         [ 0.7765,  0.6353,  0.8078,  ...,  1.3882,  0.3686, -0.0706]],\n",
       "\n",
       "        [[-1.0275, -1.2784, -1.2471,  ...,  0.0706, -0.0392, -0.0549],\n",
       "         [-1.6863, -2.0000, -1.8745,  ..., -0.6196, -0.6980, -0.6353],\n",
       "         [-1.6235, -1.8902, -1.5765,  ..., -0.6824, -0.6824, -0.8549],\n",
       "         ...,\n",
       "         [ 0.6667,  0.4000,  0.5255,  ...,  0.0863, -1.5137, -1.4667],\n",
       "         [ 0.1804, -0.0706,  0.2588,  ...,  0.3216, -1.0275, -1.1686],\n",
       "         [ 0.2588,  0.0235,  0.2275,  ...,  0.8863, -0.1490, -0.5569]],\n",
       "\n",
       "        [[-1.0118, -1.2941, -1.3255,  ..., -0.3059, -0.4000, -0.3843],\n",
       "         [-1.6863, -2.0000, -2.0000,  ..., -1.1373, -1.2157, -1.1059],\n",
       "         [-1.6706, -2.0000, -1.8745,  ..., -1.2157, -1.2157, -1.3412],\n",
       "         ...,\n",
       "         [-0.4941, -1.4667, -1.5922,  ..., -0.9020, -1.8902, -1.6863],\n",
       "         [-0.4941, -1.3412, -1.5294,  ..., -0.5255, -1.4667, -1.4667],\n",
       "         [-0.1804, -0.5255, -0.6353,  ...,  0.1961, -0.6824, -0.8706]]])"
      ]
     },
     "execution_count": 86,
     "metadata": {},
     "output_type": "execute_result"
    }
   ],
   "source": [
    "composer = Compose([transformer, norm])\n",
    "composer(cifar10.data[0])"
   ]
  },
  {
   "cell_type": "code",
   "execution_count": null,
   "metadata": {
    "colab": {
     "base_uri": "https://localhost:8080/"
    },
    "id": "QP8COTEe30M4",
    "outputId": "4e2ea189-4622-4225-8043-930c5c2501ca"
   },
   "outputs": [
    {
     "name": "stdout",
     "output_type": "stream",
     "text": [
      "Files already downloaded and verified\n"
     ]
    }
   ],
   "source": [
    "#transformed dataset\n",
    "transformed_cifar10 = datasets.CIFAR10('.', download = True, transform = Compose([ToTensor(), Normalize((0.4914, 0.4822, 0.4465),\n",
    "                                                                                                        (0.2470, 0.2435, 0.2616))]))"
   ]
  },
  {
   "cell_type": "code",
   "execution_count": null,
   "metadata": {
    "colab": {
     "base_uri": "https://localhost:8080/"
    },
    "id": "pFMcwi2aE6UJ",
    "outputId": "301e2763-ff52-41e0-bfab-6f5b7b8253ac"
   },
   "outputs": [
    {
     "name": "stdout",
     "output_type": "stream",
     "text": [
      "Files already downloaded and verified\n"
     ]
    }
   ],
   "source": [
    "#transformed validation dataset\n",
    "transformed_cifar10_val = datasets.CIFAR10('.', download = True, train = False, transform = Compose([ToTensor(), Normalize((0.4914, 0.4822, 0.4465),\n",
    "                                                                                                        (0.2470, 0.2435, 0.2616))]))"
   ]
  },
  {
   "cell_type": "code",
   "execution_count": null,
   "metadata": {
    "id": "NgLshkJM4Otp"
   },
   "outputs": [],
   "source": [
    "#binarization\n",
    "labels = {0:0, 1:1}\n",
    "names = ['airplane', 'car']\n",
    "cifar_binary = [(im, labels[label]) for im, label in transformed_cifar10 if label in [0, 1]]\n",
    "cifar_binary_val = [(im, labels[label]) for im, label in transformed_cifar10_val if label in [0, 1]]"
   ]
  },
  {
   "cell_type": "code",
   "execution_count": null,
   "metadata": {
    "colab": {
     "base_uri": "https://localhost:8080/",
     "height": 447
    },
    "id": "gd0qP2WF5nIz",
    "outputId": "7964daca-a976-41b8-cf70-58f35112d2d6"
   },
   "outputs": [
    {
     "data": {
      "text/plain": [
       "<matplotlib.image.AxesImage at 0x7f0f949d81c0>"
      ]
     },
     "execution_count": 90,
     "metadata": {},
     "output_type": "execute_result"
    },
    {
     "data": {
      "image/png": "[encoded data removed]",
      "text/plain": [
       "<Figure size 640x480 with 1 Axes>"
      ]
     },
     "metadata": {},
     "output_type": "display_data"
    }
   ],
   "source": [
    "plt.imshow(cifar_binary[10][0][0, :, :], cmap = 'gray')"
   ]
  },
  {
   "cell_type": "code",
   "execution_count": null,
   "metadata": {
    "id": "EFQ-Faq1iNjk"
   },
   "outputs": [],
   "source": []
  },
  {
   "cell_type": "code",
   "execution_count": null,
   "metadata": {
    "id": "ExvteYEMiNhA"
   },
   "outputs": [],
   "source": []
  },
  {
   "cell_type": "code",
   "execution_count": null,
   "metadata": {
    "id": "m_IV2ipkiNeX"
   },
   "outputs": [],
   "source": []
  },
  {
   "cell_type": "code",
   "execution_count": null,
   "metadata": {
    "id": "5581650wiNcB"
   },
   "outputs": [],
   "source": []
  },
  {
   "cell_type": "code",
   "execution_count": null,
   "metadata": {
    "id": "Z13Oxyh7iNZY"
   },
   "outputs": [],
   "source": []
  },
  {
   "cell_type": "code",
   "execution_count": null,
   "metadata": {
    "id": "ndImkrX9iNXA"
   },
   "outputs": [],
   "source": []
  },
  {
   "cell_type": "code",
   "execution_count": null,
   "metadata": {
    "id": "4VgkSohv5vh0"
   },
   "outputs": [],
   "source": [
    "#defining the network as a module\n",
    "class CNet(nn.Module):\n",
    "  def __init__(self):\n",
    "    super().__init__()\n",
    "\n",
    "    self.conv1 = nn.Conv2d(3, 16, 3, padding = 1)\n",
    "    self.act1 = nn.Tanh()\n",
    "    self.pool1 = nn.MaxPool2d(2)\n",
    "\n",
    "\n",
    "    self.conv2 = nn.Conv2d(16, 8, 3, padding = 1)\n",
    "    self.act2 = nn.Tanh()\n",
    "    self.pool2 = nn.MaxPool2d(2)\n",
    "\n",
    "    self.lin1 = nn.Linear(8*8*8, 64)\n",
    "    self.act3 = nn.Tanh()\n",
    "    self.lin2 = nn.Linear(64, 2)\n",
    "\n",
    "  def forward(self, x):\n",
    "    x = self.pool1(self.act1(self.conv1(x)))\n",
    "    x = self.pool2(self.act2(self.conv2(x)))\n",
    "    x = x.view(-1, 8*8*8)\n",
    "    x = self.act3(self.lin1(x))\n",
    "    x = self.lin2(x)\n",
    "    return x"
   ]
  },
  {
   "cell_type": "code",
   "execution_count": null,
   "metadata": {
    "id": "aCUyVsZqBXbX"
   },
   "outputs": [],
   "source": [
    "#model, optimizer, and loss\n",
    "model = CNet()\n",
    "optimizer = optim.SGD(model.parameters(), lr = 0.01)\n",
    "loss = nn.CrossEntropyLoss()"
   ]
  },
  {
   "cell_type": "code",
   "execution_count": null,
   "metadata": {
    "id": "5mHzaE5xDi_5"
   },
   "outputs": [],
   "source": [
    "#model to gpu\n",
    "model = model.to(device)"
   ]
  },
  {
   "cell_type": "code",
   "execution_count": null,
   "metadata": {
    "id": "n_lfFbz9DWDE"
   },
   "outputs": [],
   "source": [
    "#train batches\n",
    "train_loader = DataLoader(cifar_binary, batch_size = 32)"
   ]
  },
  {
   "cell_type": "code",
   "execution_count": null,
   "metadata": {
    "colab": {
     "base_uri": "https://localhost:8080/"
    },
    "id": "06uGzJJ3C_5Z",
    "outputId": "eeedb0b3-cc51-4bc2-fe29-d86f4f1cde3f"
   },
   "outputs": [
    {
     "name": "stdout",
     "output_type": "stream",
     "text": [
      "Epoch 1, Loss 162.1322283744812.\n",
      "Epoch 100, Loss 4.197731839696644.\n"
     ]
    }
   ],
   "source": [
    "#train the model\n",
    "training_loop(100, optimizer, model, loss, train_loader)"
   ]
  },
  {
   "cell_type": "code",
   "execution_count": null,
   "metadata": {
    "id": "G0Q1Ef3sDgou"
   },
   "outputs": [],
   "source": [
    "#validation loader\n",
    "val_loader = DataLoader(cifar_binary_val, batch_size = 32, shuffle = False)"
   ]
  },
  {
   "cell_type": "code",
   "execution_count": null,
   "metadata": {
    "id": "sdd8PcyAFl64"
   },
   "outputs": [],
   "source": [
    "#validation function\n",
    "def validate(model, train_loader, val_loader):\n",
    "  for name, dataset in [(\"Train\", train_loader), (\"Test\", val_loader)]:\n",
    "    correct = 0\n",
    "    total = 0\n",
    "    with torch.no_grad():\n",
    "      for imgs, labels in dataset:\n",
    "        imgs = imgs.to(device)\n",
    "        labels = labels.to(device)\n",
    "        out = model(imgs)\n",
    "        _, preds = torch.max(out, dim = 1)\n",
    "        total += labels.shape[0]\n",
    "        correct += int((preds == labels).sum())\n",
    "      print(f\"{name}: Accuracy: {correct/total}\")"
   ]
  },
  {
   "cell_type": "code",
   "execution_count": null,
   "metadata": {
    "colab": {
     "base_uri": "https://localhost:8080/"
    },
    "id": "QCCzztSIGa7e",
    "outputId": "3f8b9283-b266-4a00-85f6-391b35b4729d"
   },
   "outputs": [
    {
     "name": "stdout",
     "output_type": "stream",
     "text": [
      "Train: Accuracy: 0.9935\n",
      "Test: Accuracy: 0.9455\n"
     ]
    }
   ],
   "source": [
    "#examine the accuracy\n",
    "validate(model, train_loader, val_loader)"
   ]
  },
  {
   "cell_type": "code",
   "execution_count": null,
   "metadata": {
    "id": "eK5unIICGhdI"
   },
   "outputs": [],
   "source": [
    "#save the model\n",
    "torch.save(model.state_dict(), 'car_vs_plane.pt')"
   ]
  },
  {
   "cell_type": "code",
   "execution_count": null,
   "metadata": {
    "id": "ett1RNN5HFP6"
   },
   "outputs": [],
   "source": [
    "#reload the model\n",
    "reloaded = torch.load('car_vs_plane.pt')\n",
    "# reloaded"
   ]
  },
  {
   "cell_type": "markdown",
   "metadata": {
    "id": "P5J7jnjdiyc0"
   },
   "source": [
    "#### A Second Example"
   ]
  },
  {
   "cell_type": "code",
   "execution_count": null,
   "metadata": {
    "id": "K1ebHOkNlkJO"
   },
   "outputs": [],
   "source": [
    "trainset = datasets.MNIST('.', download=True, train=True, transform=transform)\n",
    "valset = datasets.MNIST('.', download=True, train=False, transform=transform)\n",
    "trainloader = torch.utils.data.DataLoader(trainset, batch_size=64, shuffle=True)\n",
    "valloader = torch.utils.data.DataLoader(valset, batch_size=64, shuffle=True)"
   ]
  },
  {
   "cell_type": "code",
   "execution_count": null,
   "metadata": {
    "id": "ccqdOqxilkFU"
   },
   "outputs": [],
   "source": []
  },
  {
   "cell_type": "code",
   "execution_count": null,
   "metadata": {
    "id": "q9XMBJ41lkBS"
   },
   "outputs": [],
   "source": []
  },
  {
   "cell_type": "code",
   "execution_count": null,
   "metadata": {
    "id": "0I08mR7slj9W"
   },
   "outputs": [],
   "source": []
  },
  {
   "cell_type": "code",
   "execution_count": null,
   "metadata": {
    "id": "fXn4ZM8Vi2VH"
   },
   "outputs": [],
   "source": []
  },
  {
   "cell_type": "code",
   "execution_count": null,
   "metadata": {
    "id": "T9zWrwc_i2SE"
   },
   "outputs": [],
   "source": []
  },
  {
   "cell_type": "code",
   "execution_count": null,
   "metadata": {
    "id": "13BffNjqi2O6"
   },
   "outputs": [],
   "source": []
  },
  {
   "cell_type": "code",
   "execution_count": null,
   "metadata": {
    "id": "2LkH6nB3i2MU"
   },
   "outputs": [],
   "source": []
  },
  {
   "cell_type": "markdown",
   "metadata": {
    "id": "atXVuji6S1cZ"
   },
   "source": [
    "#### Regularization\n",
    "\n",
    "- Weight Decay\n",
    "- Dropout"
   ]
  },
  {
   "cell_type": "code",
   "execution_count": null,
   "metadata": {
    "id": "U0ioO7sqHJVp"
   },
   "outputs": [],
   "source": [
    "def training_loop_l2(epochs, optimizer, model, loss_func, loader):\n",
    "  for epoch in range(1, epochs + 1):\n",
    "    loss_train = 0.0\n",
    "    for x, y in loader:\n",
    "      x = x.to(device)\n",
    "      y = y.to(device)\n",
    "      outputs = model(x)\n",
    "      loss = loss_func(outputs, y)\n",
    "      ###lambda\n",
    "      l2_lambda = 0.01\n",
    "      ###compute the l2 term\n",
    "      l2_norm = sum(param.pow(2).sum() for param in model.parameters())\n",
    "      ###update loss\n",
    "      loss = loss + l2_lambda*l2_norm\n",
    "      optimizer.zero_grad()\n",
    "      loss.backward()\n",
    "      optimizer.step()\n",
    "      loss_train += loss.item()\n",
    "    if epoch == 1 or epoch % 10 == 0:\n",
    "      print(f'Epoch {epoch}, Loss {loss_train}.')"
   ]
  },
  {
   "cell_type": "code",
   "execution_count": null,
   "metadata": {
    "id": "WXYVpDYKHvNf"
   },
   "outputs": [],
   "source": [
    "class CNetDropout(nn.Module):\n",
    "  def __init__(self, n_chans1 = 16):\n",
    "    super.__init__()\n",
    "    self.n_chans1 = n_chans1\n",
    "    self.conv1 = nn.Conv2d(3, n_chans1, 3, padding = 1)\n",
    "    #add dropout\n",
    "    self.conv1_dropout = nn.Dropout(.2)\n",
    "    self.conv2 = nn.Conv2d(n_chans1, n_chans1 // 2, 3, padding = 1)\n",
    "    #add dropout\n",
    "    self.conv2_dropout = nn.Dropout(.2)\n",
    "    self.lin1 = nn.Linear(8*8*n_chans1 // 2, 32)\n",
    "    self.lin2 = nn.Linear(32, 2)\n",
    "\n",
    "  def forward(self, x):\n",
    "    x = F.max_pool2d(torch.tanh(self.conv1(x)), 2)\n",
    "    #use dropout\n",
    "    x = self.conv1_dropout(x)\n",
    "    x = F.max_pool2d(torch.tanh(self.conv2(x)), 2)\n",
    "    #use dropout\n",
    "    x = self.conv2_dropout(x)\n",
    "    x = x.view(-1, 8*8*8*self.n_chans1 // 2)\n",
    "    x = torch.tanh(self.lin1(x))\n",
    "    x = self.lin2(x)\n",
    "    return x\n"
   ]
  },
  {
   "cell_type": "code",
   "execution_count": null,
   "metadata": {
    "id": "MJPRaFgiTX15"
   },
   "outputs": [],
   "source": []
  }
 ],
 "metadata": {
  "accelerator": "GPU",
  "colab": {
   "provenance": []
  },
  "gpuClass": "standard",
  "kernelspec": {
   "display_name": "Python 3",
   "language": "python",
   "name": "python3"
  },
  "language_info": {
   "codemirror_mode": {
    "name": "ipython",
    "version": 3
   },
   "file_extension": ".py",
   "mimetype": "text/x-python",
   "name": "python",
   "nbconvert_exporter": "python",
   "pygments_lexer": "ipython3",
   "version": "3.8.3"
  }
 },
 "nbformat": 4,
 "nbformat_minor": 4
}
