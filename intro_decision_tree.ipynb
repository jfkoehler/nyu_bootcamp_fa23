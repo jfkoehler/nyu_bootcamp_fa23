{
 "cells": [
  {
   "cell_type": "markdown",
   "metadata": {
    "id": "ucSu8nd-76ON"
   },
   "source": [
    "### Introduction to Decision Trees and Forests\n",
    "\n",
    "**OBJECTIVES**\n",
    "\n",
    "- Understand how a decision tree is built for classification and regression\n",
    "- Fit decision tree models using `scikit-learn`\n",
    "- Control overfitting by grid searching and cross validating\n",
    "- Understand the random forest model and fit models using `scikit-learn`\n",
    "- Examine feature importance of fit tree and forest models"
   ]
  },
  {
   "cell_type": "code",
   "execution_count": null,
   "metadata": {
    "id": "WDzza8PS8GHi"
   },
   "outputs": [],
   "source": [
    "import seaborn as sns\n",
    "import numpy as np\n",
    "import pandas as pd\n",
    "import matplotlib.pyplot as plt\n",
    "\n",
    "from sklearn.model_selection import train_test_split, GridSearchCV\n",
    "from sklearn.tree import DecisionTreeClassifier, DecisionTreeRegressor, plot_tree\n",
    "from sklearn.preprocessing import OneHotEncoder"
   ]
  },
  {
   "cell_type": "markdown",
   "metadata": {
    "id": "VLxXcu6e8MeR"
   },
   "source": [
    "#### Titanic Dataset"
   ]
  },
  {
   "cell_type": "code",
   "execution_count": null,
   "metadata": {
    "colab": {
     "base_uri": "https://localhost:8080/",
     "height": 206
    },
    "id": "bf5lvqMe8Pem",
    "outputId": "bbbb8476-81f5-4789-fa74-f2afb5b6161f"
   },
   "outputs": [],
   "source": [
    "#load the data\n",
    "titanic = sns.load_dataset('titanic')\n",
    "titanic.head(5) #shows first five rows of data"
   ]
  },
  {
   "cell_type": "code",
   "execution_count": null,
   "metadata": {
    "colab": {
     "base_uri": "https://localhost:8080/",
     "height": 237
    },
    "id": "rQKnlY0w8Qfp",
    "outputId": "8d557973-3757-40ab-fd27-8730f99ab136"
   },
   "outputs": [],
   "source": [
    "#subset the data to binary columns\n",
    "data = titanic.loc[:4, ['alone', 'adult_male', 'survived']]\n",
    "data"
   ]
  },
  {
   "cell_type": "markdown",
   "metadata": {},
   "source": [
    "Suppose you want to use a single column to predict if a passenger survives or not.  Which column will do a better job predicting survival in the sample dataset above?"
   ]
  },
  {
   "cell_type": "code",
   "execution_count": null,
   "metadata": {},
   "outputs": [],
   "source": [
    "#survival by alone\n"
   ]
  },
  {
   "cell_type": "code",
   "execution_count": null,
   "metadata": {
    "colab": {
     "base_uri": "https://localhost:8080/"
    },
    "id": "E0cgK11Hq0Hv",
    "outputId": "d61ba83a-ac7d-4682-ff3e-32c07a4b6964"
   },
   "outputs": [],
   "source": [
    "#survival by adult_male\n"
   ]
  },
  {
   "cell_type": "code",
   "execution_count": null,
   "metadata": {
    "colab": {
     "base_uri": "https://localhost:8080/"
    },
    "id": "6-dVb5Y0q0Ee",
    "outputId": "2997dfc2-91cd-4d86-fded-953be535b9de"
   },
   "outputs": [],
   "source": []
  },
  {
   "cell_type": "code",
   "execution_count": null,
   "metadata": {
    "id": "eNsm3kvxq0B4"
   },
   "outputs": [],
   "source": []
  },
  {
   "cell_type": "code",
   "execution_count": null,
   "metadata": {
    "id": "GyHtndieqz_E"
   },
   "outputs": [],
   "source": []
  },
  {
   "cell_type": "code",
   "execution_count": null,
   "metadata": {
    "id": "TxNRafQxqz8N"
   },
   "outputs": [],
   "source": []
  },
  {
   "cell_type": "code",
   "execution_count": null,
   "metadata": {
    "id": "lnIHmh7fqz5i"
   },
   "outputs": [],
   "source": []
  },
  {
   "cell_type": "code",
   "execution_count": null,
   "metadata": {
    "id": "umUeMsv_qz2p"
   },
   "outputs": [],
   "source": []
  },
  {
   "cell_type": "markdown",
   "metadata": {
    "id": "b5IXTQ9C8W7r"
   },
   "source": [
    "### Entropy\n",
    "\n",
    "One way to quantify the quality of the split is to use a quantity called **entropy**.  This is determined by:\n",
    "\n",
    "$$H = - \\sum p_i \\log p_i $$\n",
    "\n",
    "With a decision tree the idea is to select a feature that produces less entropy.  "
   ]
  },
  {
   "cell_type": "code",
   "execution_count": null,
   "metadata": {},
   "outputs": [],
   "source": [
    "#all the same -- probability = 1\n"
   ]
  },
  {
   "cell_type": "code",
   "execution_count": null,
   "metadata": {},
   "outputs": [],
   "source": [
    "#half and half -- probability = .5\n"
   ]
  },
  {
   "cell_type": "code",
   "execution_count": null,
   "metadata": {
    "colab": {
     "base_uri": "https://localhost:8080/",
     "height": 206
    },
    "id": "mIxadmntq-ZK",
    "outputId": "74986ab4-b2c8-4111-9d02-5b80ea5343d2"
   },
   "outputs": [],
   "source": [
    "#subset the data to age, pclass, and survived five rows\n",
    "data = titanic.loc[:4, ['age', 'pclass', 'survived']]\n",
    "data"
   ]
  },
  {
   "cell_type": "code",
   "execution_count": null,
   "metadata": {
    "colab": {
     "base_uri": "https://localhost:8080/"
    },
    "id": "tGv6UooR8avK",
    "outputId": "2f70c319-7585-432a-ec40-335410d0d0c6"
   },
   "outputs": [],
   "source": [
    "#compute entropy for pclass\n",
    "#first class entropy\n"
   ]
  },
  {
   "cell_type": "code",
   "execution_count": null,
   "metadata": {},
   "outputs": [],
   "source": [
    "#pclass entropy\n"
   ]
  },
  {
   "cell_type": "code",
   "execution_count": null,
   "metadata": {},
   "outputs": [],
   "source": [
    "#weighted sum of these\n"
   ]
  },
  {
   "cell_type": "code",
   "execution_count": null,
   "metadata": {},
   "outputs": [],
   "source": []
  },
  {
   "cell_type": "code",
   "execution_count": null,
   "metadata": {
    "id": "DMD8SSXACqqu"
   },
   "outputs": [],
   "source": [
    "#splitting on age < 30\n",
    "entropy_left = None\n",
    "entropy_right = None\n",
    "entropy_age = None"
   ]
  },
  {
   "cell_type": "code",
   "execution_count": null,
   "metadata": {
    "id": "rz-VkFSQEFMR"
   },
   "outputs": [],
   "source": [
    "#original entropy\n",
    "original_entropy = -((3/5)*np.log2(3/5) + (2/5)*np.log2(2/5))"
   ]
  },
  {
   "cell_type": "code",
   "execution_count": null,
   "metadata": {
    "colab": {
     "base_uri": "https://localhost:8080/"
    },
    "id": "ABwYz9A6FwcV",
    "outputId": "16d249e0-bbb8-449f-f1ae-9f85a2602463"
   },
   "outputs": [],
   "source": [
    "# improvement based on pclass\n"
   ]
  },
  {
   "cell_type": "code",
   "execution_count": null,
   "metadata": {
    "colab": {
     "base_uri": "https://localhost:8080/"
    },
    "id": "OCX0Bg-zF44u",
    "outputId": "c8e45a47-4dbf-4570-a0e0-e33f5fd24b7b"
   },
   "outputs": [],
   "source": [
    "#improvement based on age < 30\n"
   ]
  },
  {
   "cell_type": "markdown",
   "metadata": {},
   "source": [
    "**EXAMPLE**"
   ]
  },
  {
   "cell_type": "code",
   "execution_count": null,
   "metadata": {},
   "outputs": [],
   "source": []
  },
  {
   "cell_type": "code",
   "execution_count": null,
   "metadata": {},
   "outputs": [],
   "source": []
  },
  {
   "cell_type": "code",
   "execution_count": null,
   "metadata": {},
   "outputs": [],
   "source": []
  },
  {
   "cell_type": "markdown",
   "metadata": {
    "id": "KMufWQ18GHKg"
   },
   "source": [
    "#### Using `sklearn`\n",
    "\n",
    "The `DecisionTreeClassifier` can use `entropy` to build a full decision tree model.  Below we build and visualize such a model."
   ]
  },
  {
   "cell_type": "code",
   "execution_count": null,
   "metadata": {
    "id": "Ai9OpMSFG2pf"
   },
   "outputs": [],
   "source": [
    "X = data[['age', 'pclass']]\n",
    "y = data['survived']"
   ]
  },
  {
   "cell_type": "code",
   "execution_count": null,
   "metadata": {
    "id": "z4vieBukGZF-"
   },
   "outputs": [],
   "source": [
    "from sklearn.tree import DecisionTreeClassifier"
   ]
  },
  {
   "cell_type": "code",
   "execution_count": null,
   "metadata": {
    "id": "DlEK94CL289l"
   },
   "outputs": [],
   "source": [
    "DecisionTreeClassifier?"
   ]
  },
  {
   "cell_type": "code",
   "execution_count": null,
   "metadata": {
    "id": "xUwNIUUbGoxu"
   },
   "outputs": [],
   "source": [
    "#instantiate\n"
   ]
  },
  {
   "cell_type": "code",
   "execution_count": null,
   "metadata": {
    "colab": {
     "base_uri": "https://localhost:8080/",
     "height": 74
    },
    "id": "XviRac2gCk0m",
    "outputId": "087b5de1-720e-4d0c-b57d-c32d586cf819"
   },
   "outputs": [],
   "source": [
    "#fit\n"
   ]
  },
  {
   "cell_type": "code",
   "execution_count": null,
   "metadata": {
    "colab": {
     "base_uri": "https://localhost:8080/"
    },
    "id": "2fQtffFYCsAJ",
    "outputId": "5e2c9572-e307-436d-a254-dfd1c1c27f88"
   },
   "outputs": [],
   "source": [
    "#score it\n"
   ]
  },
  {
   "cell_type": "code",
   "execution_count": null,
   "metadata": {
    "colab": {
     "base_uri": "https://localhost:8080/"
    },
    "id": "sIrpIheZCxl9",
    "outputId": "3e51da0b-62ef-4baa-b288-6e7d6a1e08dd"
   },
   "outputs": [],
   "source": [
    "#predictions\n"
   ]
  },
  {
   "cell_type": "markdown",
   "metadata": {
    "id": "-NJWbYUl4Hwq"
   },
   "source": [
    "#### Visualizing the results\n",
    "\n",
    "The `plot_tree` function will plot the decision tree model after fitting.  There are many options you can use to control the resulting tree drawn."
   ]
  },
  {
   "cell_type": "code",
   "execution_count": null,
   "metadata": {
    "id": "NwS8F7DAHHOg"
   },
   "outputs": [],
   "source": [
    "from sklearn.tree import plot_tree"
   ]
  },
  {
   "cell_type": "code",
   "execution_count": null,
   "metadata": {
    "colab": {
     "base_uri": "https://localhost:8080/",
     "height": 406
    },
    "id": "JnUTpeZVHHl8",
    "outputId": "90f16f16-627d-4e90-e1b3-59032eb884de"
   },
   "outputs": [],
   "source": [
    "#plot_tree\n"
   ]
  },
  {
   "cell_type": "markdown",
   "metadata": {},
   "source": [
    "**Larger Example**"
   ]
  },
  {
   "cell_type": "code",
   "execution_count": null,
   "metadata": {
    "colab": {
     "base_uri": "https://localhost:8080/"
    },
    "id": "3ZdQNrz0HMe7",
    "outputId": "1c51cb94-fb89-4bc7-9be8-0c4c75aba064"
   },
   "outputs": [],
   "source": [
    "bigger_data = titanic[['pclass', 'age', 'fare', 'survived']].dropna()\n",
    "bigger_data.info()"
   ]
  },
  {
   "cell_type": "code",
   "execution_count": null,
   "metadata": {
    "colab": {
     "base_uri": "https://localhost:8080/"
    },
    "id": "SmWSNf_RFHyy",
    "outputId": "a7cbe206-46d9-4863-bad0-44599a2ced68"
   },
   "outputs": [],
   "source": [
    "bigger_data.info()"
   ]
  },
  {
   "cell_type": "code",
   "execution_count": null,
   "metadata": {
    "id": "zKIFcplpHNxP"
   },
   "outputs": [],
   "source": [
    "from sklearn.tree import plot_tree\n",
    "import matplotlib.pyplot as plt"
   ]
  },
  {
   "cell_type": "code",
   "execution_count": null,
   "metadata": {
    "id": "kgBwlNnKHfTH"
   },
   "outputs": [],
   "source": [
    "X = bigger_data.drop('survived', axis = 1)\n",
    "y = bigger_data['survived']"
   ]
  },
  {
   "cell_type": "code",
   "execution_count": null,
   "metadata": {
    "colab": {
     "base_uri": "https://localhost:8080/",
     "height": 74
    },
    "id": "USHizofmJF_n",
    "outputId": "83c10acf-82fc-4d6e-d9f5-4fd237a3b4f0"
   },
   "outputs": [],
   "source": [
    "#instantiate\n",
    "bigger_tree = DecisionTreeClassifier(criterion = 'entropy')\n",
    "#fit\n",
    "bigger_tree.fit(X, y)"
   ]
  },
  {
   "cell_type": "code",
   "execution_count": null,
   "metadata": {
    "colab": {
     "base_uri": "https://localhost:8080/"
    },
    "id": "hjAAuua5JF7N",
    "outputId": "a1c3178c-4c36-4808-8f4a-75c6873a9b53"
   },
   "outputs": [],
   "source": [
    "#evaluate -- Accuracy aka percent correct\n",
    "bigger_tree.score(X, y)"
   ]
  },
  {
   "cell_type": "code",
   "execution_count": null,
   "metadata": {
    "colab": {
     "base_uri": "https://localhost:8080/"
    },
    "id": "pq_UUGImJF3C",
    "outputId": "e61e24f1-074c-4e35-a8ee-99229f7b5fe9"
   },
   "outputs": [],
   "source": [
    "1 - bigger_tree.score(X, y) #error rate"
   ]
  },
  {
   "cell_type": "code",
   "execution_count": null,
   "metadata": {
    "colab": {
     "base_uri": "https://localhost:8080/",
     "height": 406
    },
    "id": "MC47DYc9JF0J",
    "outputId": "1989ddd8-f225-4134-d3a5-877742884d33"
   },
   "outputs": [],
   "source": [
    "plot_tree(bigger_tree, feature_names = X.columns);"
   ]
  },
  {
   "cell_type": "markdown",
   "metadata": {},
   "source": [
    "Looks like this may overfit the data and not generalize well!  It is important to continue to use what we discussed in terms of train/test split and cross validation to explore the quality of the model fit.  "
   ]
  },
  {
   "cell_type": "code",
   "execution_count": null,
   "metadata": {
    "id": "-bB8qqY2GVHg"
   },
   "outputs": [],
   "source": [
    "X_train, X_test, y_train, y_test = train_test_split(X, y)"
   ]
  },
  {
   "cell_type": "code",
   "execution_count": null,
   "metadata": {
    "colab": {
     "base_uri": "https://localhost:8080/",
     "height": 74
    },
    "id": "w-H15yFfGVC8",
    "outputId": "a3abac2d-5cd1-40f7-cdfd-72cd1973eeb6"
   },
   "outputs": [],
   "source": [
    "bigger_tree.fit(X_train, y_train)"
   ]
  },
  {
   "cell_type": "code",
   "execution_count": null,
   "metadata": {
    "colab": {
     "base_uri": "https://localhost:8080/"
    },
    "id": "WQw78nr5GU-_",
    "outputId": "c7d9a479-2989-4a47-b8d0-ce309076b318"
   },
   "outputs": [],
   "source": [
    "bigger_tree.score(X_train, y_train)"
   ]
  },
  {
   "cell_type": "code",
   "execution_count": null,
   "metadata": {
    "colab": {
     "base_uri": "https://localhost:8080/"
    },
    "id": "O-6ITV7EGU38",
    "outputId": "c360a669-2dd4-4dd8-9571-176866e24dd6"
   },
   "outputs": [],
   "source": [
    "bigger_tree.score(X_test, y_test)"
   ]
  },
  {
   "cell_type": "markdown",
   "metadata": {
    "id": "116Mh5n8GUyq"
   },
   "source": [
    "#### Control `max_depth`\n",
    "\n",
    "There are many hyperparameters in the decision tree model.  One thing we may seek to control is how many decisions are allowed to be made.  This is determined by the `max_depth` parameter, essentially stopping the decision tree after a set number of splits."
   ]
  },
  {
   "cell_type": "code",
   "execution_count": null,
   "metadata": {
    "id": "Bzi9OLGZHBqy"
   },
   "outputs": [],
   "source": [
    "#decision tree with depth of 3\n",
    "constrained_tree = DecisionTreeClassifier(criterion = 'entropy',\n",
    "                                          max_depth = 3)"
   ]
  },
  {
   "cell_type": "code",
   "execution_count": null,
   "metadata": {
    "colab": {
     "base_uri": "https://localhost:8080/",
     "height": 74
    },
    "id": "wIZ-U-5VGSnM",
    "outputId": "9dc2cd70-e4df-4b66-88b7-b647939e0520"
   },
   "outputs": [],
   "source": [
    "#fit on train\n",
    "constrained_tree.fit(X_train, y_train)"
   ]
  },
  {
   "cell_type": "code",
   "execution_count": null,
   "metadata": {
    "colab": {
     "base_uri": "https://localhost:8080/"
    },
    "id": "N4j3X6eDHNhp",
    "outputId": "6cea0c76-86ea-4a97-a059-02a5c236907a"
   },
   "outputs": [],
   "source": [
    "#score on train\n",
    "constrained_tree.score(X_train, y_train)"
   ]
  },
  {
   "cell_type": "code",
   "execution_count": null,
   "metadata": {
    "colab": {
     "base_uri": "https://localhost:8080/"
    },
    "id": "EOU1qsRBHQEw",
    "outputId": "bfc7d694-d975-4ac1-8955-6e2c7af125ca"
   },
   "outputs": [],
   "source": [
    "#score on test\n",
    "constrained_tree.score(X_test, y_test)"
   ]
  },
  {
   "cell_type": "code",
   "execution_count": null,
   "metadata": {
    "colab": {
     "base_uri": "https://localhost:8080/",
     "height": 807
    },
    "id": "jvGpEdv4HbG0",
    "outputId": "fb36c2ef-ed50-4150-89aa-2da5a34ee6bd"
   },
   "outputs": [],
   "source": [
    "#plot results\n",
    "fig, ax = plt.subplots(figsize = (20, 10))\n",
    "plot_tree(constrained_tree, feature_names=X.columns, ax = ax, fontsize = 14);"
   ]
  },
  {
   "cell_type": "markdown",
   "metadata": {
    "id": "jamMiIsT6zDF"
   },
   "source": [
    "### Selecting the Best Tree"
   ]
  },
  {
   "cell_type": "code",
   "execution_count": null,
   "metadata": {
    "id": "wSMWmNzNJbAm"
   },
   "outputs": [],
   "source": [
    "train_scores = []\n",
    "test_scores = []\n",
    "for d in range(1, 20):\n",
    "    dtree = DecisionTreeClassifier(criterion = 'entropy',\n",
    "                                 max_depth = d).fit(X_train, y_train)\n",
    "    train_scores.append(dtree.score(X_train, y_train))\n",
    "    test_scores.append(dtree.score(X_test, y_test))"
   ]
  },
  {
   "cell_type": "code",
   "execution_count": null,
   "metadata": {
    "colab": {
     "base_uri": "https://localhost:8080/",
     "height": 452
    },
    "id": "IcoOChC9Jzw5",
    "outputId": "36b87815-d1e0-48e6-df56-064f068708c7"
   },
   "outputs": [],
   "source": [
    "plt.plot(range(1, 20), train_scores, '--o', label = 'train')\n",
    "plt.plot(range(1, 20), test_scores, '--o', label = 'test')\n",
    "plt.grid()\n",
    "plt.legend()\n",
    "plt.xticks(range(1, 20))\n",
    "plt.xlabel('max depth')\n",
    "plt.ylabel('accuracy')\n",
    "plt.title('Depth vs. train and test score');"
   ]
  },
  {
   "cell_type": "code",
   "execution_count": null,
   "metadata": {
    "id": "CuqpwTDC8S7D"
   },
   "outputs": [],
   "source": [
    "dtree = DecisionTreeClassifier(criterion = 'entropy',\n",
    "                               max_depth = 6).fit(X_train, y_train)"
   ]
  },
  {
   "cell_type": "code",
   "execution_count": null,
   "metadata": {
    "colab": {
     "base_uri": "https://localhost:8080/"
    },
    "id": "uIWZmTTY8ZJA",
    "outputId": "2ed4a0c2-f12a-45cb-8132-4e76d5fff6da"
   },
   "outputs": [],
   "source": [
    "dtree.score(X_train, y_train)"
   ]
  },
  {
   "cell_type": "code",
   "execution_count": null,
   "metadata": {
    "colab": {
     "base_uri": "https://localhost:8080/"
    },
    "id": "XMMmRv7i8ZF9",
    "outputId": "fcf18116-b6a9-4927-81de-c08b7ebdd628"
   },
   "outputs": [],
   "source": [
    "dtree.score(X_test, y_test)"
   ]
  },
  {
   "cell_type": "markdown",
   "metadata": {},
   "source": [
    "#### Evaluating Importance\n",
    "\n",
    "By tracking how frequently a feature was used to make a split, we can determine the \"importance\" of each feature.  These are stored in the `feature_importances_` attribute of the fit model.  "
   ]
  },
  {
   "cell_type": "code",
   "execution_count": null,
   "metadata": {
    "colab": {
     "base_uri": "https://localhost:8080/"
    },
    "id": "csxl3Nz08ZCQ",
    "outputId": "77c6bc3b-7614-4c85-ae7a-a05a7988a840"
   },
   "outputs": [],
   "source": [
    "#feature importances\n",
    "dtree.feature_importances_"
   ]
  },
  {
   "cell_type": "code",
   "execution_count": null,
   "metadata": {
    "colab": {
     "base_uri": "https://localhost:8080/"
    },
    "id": "8XR_QrGu8Ssn",
    "outputId": "a45ef642-1626-4f26-97e9-45a58a8e805e"
   },
   "outputs": [],
   "source": [
    "#features\n",
    "dtree.feature_names_in_"
   ]
  },
  {
   "cell_type": "code",
   "execution_count": null,
   "metadata": {
    "colab": {
     "base_uri": "https://localhost:8080/",
     "height": 143
    },
    "id": "siZImBCJ8peZ",
    "outputId": "49445a53-cdd8-460e-ecdd-01717203b72e"
   },
   "outputs": [],
   "source": [
    "pd.DataFrame({'features': dtree.feature_names_in_, 'importance': dtree.feature_importances_})"
   ]
  },
  {
   "cell_type": "markdown",
   "metadata": {},
   "source": [
    "#### Problem\n",
    "\n",
    "Use a decision tree model to predict heart conditions using the data below.  "
   ]
  },
  {
   "cell_type": "code",
   "execution_count": null,
   "metadata": {},
   "outputs": [],
   "source": [
    "heart = pd.read_csv('data/heart_cleveland_upload.csv')"
   ]
  },
  {
   "cell_type": "code",
   "execution_count": null,
   "metadata": {},
   "outputs": [],
   "source": [
    "heart.head()"
   ]
  },
  {
   "cell_type": "code",
   "execution_count": null,
   "metadata": {},
   "outputs": [],
   "source": []
  },
  {
   "cell_type": "code",
   "execution_count": null,
   "metadata": {},
   "outputs": [],
   "source": []
  },
  {
   "cell_type": "code",
   "execution_count": null,
   "metadata": {},
   "outputs": [],
   "source": []
  },
  {
   "cell_type": "code",
   "execution_count": null,
   "metadata": {},
   "outputs": [],
   "source": []
  },
  {
   "cell_type": "code",
   "execution_count": null,
   "metadata": {},
   "outputs": [],
   "source": []
  },
  {
   "cell_type": "code",
   "execution_count": null,
   "metadata": {},
   "outputs": [],
   "source": []
  },
  {
   "cell_type": "code",
   "execution_count": null,
   "metadata": {},
   "outputs": [],
   "source": []
  },
  {
   "cell_type": "code",
   "execution_count": null,
   "metadata": {
    "id": "cHPMBG7wKZxP"
   },
   "outputs": [],
   "source": []
  }
 ],
 "metadata": {
  "colab": {
   "provenance": []
  },
  "kernelspec": {
   "display_name": "Python 3",
   "language": "python",
   "name": "python3"
  },
  "language_info": {
   "codemirror_mode": {
    "name": "ipython",
    "version": 3
   },
   "file_extension": ".py",
   "mimetype": "text/x-python",
   "name": "python",
   "nbconvert_exporter": "python",
   "pygments_lexer": "ipython3",
   "version": "3.8.3"
  }
 },
 "nbformat": 4,
 "nbformat_minor": 4
}
