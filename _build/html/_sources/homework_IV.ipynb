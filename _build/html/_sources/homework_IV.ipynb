{
 "cells": [
  {
   "cell_type": "markdown",
   "metadata": {},
   "source": [
    "#### API's and Data Visualization\n",
    "\n",
    "This week we introduced working with an API to access data, and some additional plotting functionality through the `seaborn` library.  In the assignment, you will extract data from an API and use `matplotlib` and `seaborn` to visualize the data.  "
   ]
  },
  {
   "cell_type": "code",
   "execution_count": null,
   "metadata": {},
   "outputs": [],
   "source": [
    "import pandas as pd\n",
    "import numpy as np\n",
    "import matplotlib.pyplot as plt\n",
    "import seaborn as sns\n",
    "import requests"
   ]
  },
  {
   "cell_type": "markdown",
   "metadata": {},
   "source": [
    "**NOTE**: You will need to sign up for Alpha Vantage's API and receive a key.  Also, you will need to navigate the documentation for the specified time series or sentiment data."
   ]
  },
  {
   "cell_type": "markdown",
   "metadata": {},
   "source": [
    "**Problem 1**\n",
    "\n",
    "Make sure to sign up for a new API Key from Alpha Vantage [here](https://www.alphavantage.co/).  Assign this key to the variable `api_key` below."
   ]
  },
  {
   "cell_type": "code",
   "execution_count": null,
   "metadata": {},
   "outputs": [],
   "source": [
    "api_key = ''"
   ]
  },
  {
   "cell_type": "markdown",
   "metadata": {},
   "source": [
    "**Problem 2**\n",
    "\n",
    "Extract the `TIME_SERIES_DALY` for Tesla and GM for years 2019 - present.  Draw side by side line plots using `matplotlib`.  Add appropriate titles and labels, adjust the figure size to `(20, 5)`.  "
   ]
  },
  {
   "cell_type": "code",
   "execution_count": null,
   "metadata": {},
   "outputs": [],
   "source": [
    "base_url = 'https://www.alphavantage.co/query'\n",
    "req = requests.get(\n",
    "    base_url,\n",
    "    params={\n",
    "        \"function\": \"\",\n",
    "        \"symbol\": \"\",\n",
    "        \"apikey\": \"\"\n",
    "    }\n",
    ")"
   ]
  },
  {
   "cell_type": "code",
   "execution_count": null,
   "metadata": {},
   "outputs": [],
   "source": []
  },
  {
   "cell_type": "markdown",
   "metadata": {},
   "source": [
    "**Problem 3**\n",
    "\n",
    "Extract the `TIME_SERIES_MONTHLY` for the Home Depot and Lowes.  Create a boxplot using `seaborn` where the $x$-axis is the month, and the $y$-axis is the closing price of each stock respectively.  "
   ]
  },
  {
   "cell_type": "code",
   "execution_count": null,
   "metadata": {},
   "outputs": [],
   "source": [
    "base_url = 'https://www.alphavantage.co/query'\n",
    "req = requests.get(\n",
    "    base_url,\n",
    "    params={\n",
    "        \"function\": \"\",\n",
    "        \"symbol\": \"\",\n",
    "        \"apikey\": \"\"\n",
    "    }\n",
    ")"
   ]
  },
  {
   "cell_type": "code",
   "execution_count": null,
   "metadata": {},
   "outputs": [],
   "source": []
  },
  {
   "cell_type": "markdown",
   "metadata": {},
   "source": [
    "**Problem 4**\n",
    "\n",
    "Extract the `NEWS_SENTIMENT` for 200 articles related to Tesla stock.  Create a histogram of the sentiment scores from each article.  This boils down to extracting the `overall_sentiment_score` from each entry and plotting the results!"
   ]
  },
  {
   "cell_type": "code",
   "execution_count": null,
   "metadata": {},
   "outputs": [],
   "source": [
    "#update the parameters\n",
    "base_url = 'https://www.alphavantage.co/query'\n",
    "req = requests.get(\n",
    "    base_url,\n",
    "    params={\n",
    "        \n",
    "    }\n",
    ")\n",
    "results = req.json()"
   ]
  },
  {
   "cell_type": "code",
   "execution_count": null,
   "metadata": {},
   "outputs": [],
   "source": []
  },
  {
   "cell_type": "markdown",
   "metadata": {},
   "source": [
    "**Problem 5**\n",
    "\n",
    "Extract data related to retail sales from the last decade.  Create a side by side line plot and a boxplot for each month.  "
   ]
  },
  {
   "cell_type": "code",
   "execution_count": null,
   "metadata": {},
   "outputs": [],
   "source": [
    "#update the parameters\n",
    "base_url = 'https://www.alphavantage.co/query'\n",
    "req = requests.get(\n",
    "    base_url,\n",
    "    params={\n",
    "        \n",
    "    }\n",
    ")\n",
    "results = req.json()"
   ]
  },
  {
   "cell_type": "code",
   "execution_count": null,
   "metadata": {},
   "outputs": [],
   "source": []
  },
  {
   "cell_type": "markdown",
   "metadata": {},
   "source": [
    "**Problem 6**\n",
    "\n",
    "Extract `REAL_GDP_PER_CAPITA` and fix the data so as to have a datetime index sorted from earliest to latest date.  Create a line plot using seaborn with appropriate labels and titles."
   ]
  },
  {
   "cell_type": "code",
   "execution_count": null,
   "metadata": {},
   "outputs": [],
   "source": []
  },
  {
   "cell_type": "markdown",
   "metadata": {},
   "source": [
    "**Problem 7**\n",
    "\n",
    "Use the `pandas_datareader` to extract data from an endpoint of interest to you [docs](https://pandas-datareader.readthedocs.io/en/latest/). Create two visualizations using seaborn."
   ]
  },
  {
   "cell_type": "code",
   "execution_count": null,
   "metadata": {},
   "outputs": [],
   "source": []
  },
  {
   "cell_type": "code",
   "execution_count": null,
   "metadata": {},
   "outputs": [],
   "source": []
  },
  {
   "cell_type": "markdown",
   "metadata": {},
   "source": [
    "**Problem 8**\n",
    "\n",
    "Using the `pandas_datareader` and its yahoo finance endpoints, extract data for Apple and Microsoft from 2018 through present.  Create a scatterplot with a regression line [using seaborns regplot](http://seaborn.pydata.org/tutorial/regression.html) where Apple is on the horizontal axis and Microsoft is on the vertical."
   ]
  },
  {
   "cell_type": "code",
   "execution_count": null,
   "metadata": {},
   "outputs": [],
   "source": []
  },
  {
   "cell_type": "markdown",
   "metadata": {},
   "source": [
    "**Problem 9**\n",
    "\n",
    "Read through the documentation on the `resample` method in pandas [here](https://pandas.pydata.org/docs/user_guide/timeseries.html#resampling).  Use the resample method to extract the first adjusted closing price of the month for Apple stock since 2012.  "
   ]
  },
  {
   "cell_type": "code",
   "execution_count": null,
   "metadata": {},
   "outputs": [],
   "source": []
  },
  {
   "cell_type": "markdown",
   "metadata": {},
   "source": [
    "**Problem 10**\n",
    "\n",
    "Read through the user guide on the `rolling` methods in pandas [here](https://pandas.pydata.org/docs/user_guide/window.html#rolling-window).  Use this to create side by side line plots of the Adjusted Closing price of NVIDIA stock since 2018 and the rolling 20 day mean for the Adjusted Closing price of NVIDIA.  What effect does the rolling mean have on the plot?"
   ]
  },
  {
   "cell_type": "code",
   "execution_count": null,
   "metadata": {},
   "outputs": [],
   "source": []
  },
  {
   "cell_type": "markdown",
   "metadata": {},
   "source": [
    "**BONUS**\n",
    "\n",
    "Using the [Dog API](https://dog.ceo/dog-api/), create a 2 X 5 grid of images of random dogs.  You will need to create subplots and you can use the axes `.imshow()` method."
   ]
  },
  {
   "cell_type": "code",
   "execution_count": null,
   "metadata": {},
   "outputs": [],
   "source": []
  },
  {
   "cell_type": "code",
   "execution_count": null,
   "metadata": {},
   "outputs": [],
   "source": []
  },
  {
   "cell_type": "code",
   "execution_count": null,
   "metadata": {},
   "outputs": [],
   "source": []
  },
  {
   "cell_type": "code",
   "execution_count": null,
   "metadata": {},
   "outputs": [],
   "source": []
  }
 ],
 "metadata": {
  "kernelspec": {
   "display_name": "Python 3",
   "language": "python",
   "name": "python3"
  },
  "language_info": {
   "codemirror_mode": {
    "name": "ipython",
    "version": 3
   },
   "file_extension": ".py",
   "mimetype": "text/x-python",
   "name": "python",
   "nbconvert_exporter": "python",
   "pygments_lexer": "ipython3",
   "version": "3.8.3"
  }
 },
 "nbformat": 4,
 "nbformat_minor": 4
}
